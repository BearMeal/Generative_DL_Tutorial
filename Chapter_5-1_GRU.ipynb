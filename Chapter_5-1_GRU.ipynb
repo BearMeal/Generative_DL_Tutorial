{
 "cells": [
  {
   "cell_type": "markdown",
   "metadata": {},
   "source": [
    "# 자기회귀 모델 autoregrssive model\n",
    "- rnn이다 \n",
    "- 1. 텍스트 => LSTM, GRU => 이후 transfomer 구조로 발전\n",
    "- 2. 이미지 => PixelCNN\n"
   ]
  },
  {
   "cell_type": "code",
   "execution_count": null,
   "metadata": {},
   "outputs": [],
   "source": [
    " # 여기서는 GRU만"
   ]
  }
 ],
 "metadata": {
  "language_info": {
   "name": "python"
  }
 },
 "nbformat": 4,
 "nbformat_minor": 2
}
