{
 "cells": [
  {
   "cell_type": "code",
   "execution_count": 19,
   "metadata": {},
   "outputs": [],
   "source": [
    "# class api 구조를 연습하기위한 용도\n",
    "\n",
    "class Calculator:\n",
    "    #생성자 메서드\n",
    "    def __init__(self):\n",
    "    self.result = 0\n",
    "    #메서드\n",
    "    def add(self, num):\n",
    "        self.result += num \n",
    "        return print(self.result)\n",
    "    \n",
    "    def sub(self, num):\n",
    "        self.result -= num\n",
    "        return print(self.result)\n",
    "    \n",
    "# 한 프로그램 안에서 여러개의 계산기 작동가능\n",
    "# 이것들이 객체이다\n",
    "cal1 = Calculator()\n",
    "cal2 = Calculator()\n",
    "    \n"
   ]
  },
  {
   "cell_type": "code",
   "execution_count": 20,
   "metadata": {},
   "outputs": [
    {
     "name": "stdout",
     "output_type": "stream",
     "text": [
      "4\n",
      "7\n",
      "-3\n"
     ]
    }
   ],
   "source": [
    "cal1.add(4)\n",
    "cal1.add(3)\n",
    "\n",
    "cal2.sub(3)\n"
   ]
  },
  {
   "cell_type": "code",
   "execution_count": 11,
   "metadata": {},
   "outputs": [
    {
     "name": "stdout",
     "output_type": "stream",
     "text": [
      "7\n",
      "-1\n",
      "12\n",
      "0.75\n",
      "47\n",
      "-43\n",
      "90\n",
      "0.044444444444444446\n"
     ]
    }
   ],
   "source": [
    "# 사칙 연산 클래스 만들기\n",
    "# 1.객체를 생성\n",
    "# 2. setdata 메서드로 a,b를 초기화 이후 사칙연산 ㄱㄱ\n",
    "\n",
    "class Fourcal:\n",
    "    # 생성장메서드는 객체가 생성되는 시점에 자동으로 호출된다\n",
    "    def __init__(self, a, b):\n",
    "        self.a = a\n",
    "        self.b = b\n",
    "        \n",
    "    # 생성자 메서드를 사용해 객체를 생성할때 속성을 지정해주면\n",
    "    # setdata 별도의 메서드로 속성을 지정하지않을수있다.    \n",
    "    # def setdata(self,a,b):\n",
    "    #     # 여기안에 변수를 받는것을 속성이라고한다\n",
    "    #     self.a = a\n",
    "    #     self.b =b\n",
    "    def add(self):\n",
    "        return print(self.a + self.b)\n",
    "    def sub(self):\n",
    "        return print(self.a - self.b)\n",
    "    def mul(self):\n",
    "        return print(self.a * self.b)\n",
    "    def div(self):\n",
    "        result = self.a / self.b\n",
    "        return print(result)\n",
    "    \n",
    "cal1 = Fourcal(3,4)\n",
    "\n",
    "# cal1.setdata(3,4)\n",
    "cal1.add()\n",
    "cal1.sub()\n",
    "cal1.mul()\n",
    "cal1.div()\n",
    "cal1 = Fourcal(2,45)\n",
    "cal1.add()\n",
    "cal1.sub()\n",
    "cal1.mul()\n",
    "cal1.div()\n",
    "        "
   ]
  },
  {
   "cell_type": "code",
   "execution_count": 5,
   "metadata": {},
   "outputs": [
    {
     "data": {
      "text/plain": [
       "2"
      ]
     },
     "execution_count": 5,
     "metadata": {},
     "output_type": "execute_result"
    }
   ],
   "source": [
    "type(cal1) # __main__.Fourcal의 인스턴스임을 의미한다\n",
    "type(int(1))  # int타입이다 이는 정수형 int클래스의 인스턴스임을 의미한다\n",
    "\n",
    "# type(type()) # 타입의 타입은 에러가 난다.\n",
    "cal1.a\n",
    "cal1.b # 객체에 초기화된 속성을 확인한다"
   ]
  },
  {
   "cell_type": "code",
   "execution_count": 13,
   "metadata": {},
   "outputs": [
    {
     "name": "stdout",
     "output_type": "stream",
     "text": [
      "5\n",
      "9\n"
     ]
    },
    {
     "data": {
      "text/plain": [
       "0"
      ]
     },
     "execution_count": 13,
     "metadata": {},
     "output_type": "execute_result"
    }
   ],
   "source": [
    "# inheritance\n",
    "\n",
    "class Morecal(Fourcal):\n",
    "    def pow(self):\n",
    "        result = self.a ** self.b\n",
    "        return print(result)\n",
    "    \n",
    "    # 이미 부모 클래스에 존재하는 메서드를 중복해서 작성하는것을\n",
    "    # method overriding이라고한다.\n",
    "    def div(self):\n",
    "        if self.a == 0 or self.b == 0:\n",
    "                return 0\n",
    "        result = self.a / self.b\n",
    "        return print(result)\n",
    "    \n",
    "    \n",
    "    \n",
    "morecal1 = Morecal(3,2)\n",
    "\n",
    "morecal1.add()\n",
    "morecal1.pow()\n",
    "\n",
    "# cal1 = Fourcal(3,0)\n",
    "# cal1.div() #이렇게 호출하면 zerodiv 에러가발생한다.\n",
    "# method overriding 한 상속클래스에서는 이를 수정해서 사용가능하다\n",
    "morecal1 = Morecal(3,0)\n",
    "morecal1.div()\n"
   ]
  },
  {
   "cell_type": "code",
   "execution_count": 20,
   "metadata": {},
   "outputs": [
    {
     "data": {
      "text/plain": [
       "'kim'"
      ]
     },
     "execution_count": 20,
     "metadata": {},
     "output_type": "execute_result"
    }
   ],
   "source": [
    "# 위의 속성은 객체변수였다\n",
    "# 이번엔 클래스에기기본 변수로 초기화되는 \n",
    "# 클래스 변수를 알아본다\n",
    "\n",
    "class Family:\n",
    "    lastname = 'kim'\n",
    "    \n",
    "Family.lastname\n",
    "\n",
    "a = Family()\n",
    "b = Family()\n",
    "a.lastname\n",
    "b.lastname\n",
    "\n",
    "# 이렇게 다른 객체를 선언해도 클래스 속성은 변하지 않는다.\n",
    "\n",
    "\n",
    "# 객체가 지닌 메서드 확인하기\n",
    "\n",
    "# dir(a) # 이렇게 상속받은 클래스의 인스턴스는 부모의 메세드 목록에 접근불가능하다\n",
    "# dir(cal1)"
   ]
  },
  {
   "cell_type": "code",
   "execution_count": 27,
   "metadata": {},
   "outputs": [
    {
     "name": "stdout",
     "output_type": "stream",
     "text": [
      "함수가 실행됩니다.\n",
      "함수가 실행됩니다.\n",
      "함수 수행시간: 0.000007 초\n",
      "함수가 실행됩니다.\n",
      "함수 수행시간: 0.000006 초\n"
     ]
    }
   ],
   "source": [
    "# 데코레이터와 클로저\n",
    "def mul(m):\n",
    "    def wrapper(n):\n",
    "        return m * n\n",
    "    return wrapper\n",
    "\n",
    "# 함수안의 내부함수를 구현해 함수를 호출하는 방식을 \n",
    "# closure 함수라고한다.\n",
    "mul3 = mul(3) \n",
    "mul3(5)\n",
    "\n",
    "\n",
    "# 만약 어떤 함수의 실행시간을 측정하기 위해 \n",
    "# 이렇게 코드를 작성하는것은 매우 비효율적이다.\n",
    "import time\n",
    "\n",
    "# def myfunc():\n",
    "#     start = time.time()\n",
    "#     print(\"함수가 실행됩니다.\")\n",
    "#     end = time.time()\n",
    "#     print(\"함수 수행시간: %f 초\" % (end-start))\n",
    "\n",
    "# 이때 이렇게 closure 함수를 사용해 데코레이터를 만들어 줄수있다.\n",
    "def elapsed(ori_func): # 기존함수를 내부함수의 인수로\n",
    "    def wrapper():\n",
    "        start = time.time()\n",
    "        result = ori_func() # 기존함수를 호출\n",
    "        end = time.time()\n",
    "        print(\"함수 수행시간: %f 초\" % (end-start))\n",
    "        return result\n",
    "    return wrapper\n",
    "        \n",
    "def myfunc():\n",
    "    print(\"함수가 실행됩니다.\")\n",
    "\n",
    "myfunc() # 데코없이\n",
    "\n",
    "deco_myfunc = elapsed(myfunc)\n",
    "deco_myfunc()\n",
    "\n",
    "@elapsed\n",
    "def myfunc():\n",
    "    print(\"함수가 실행됩니다.\")\n",
    "\n",
    "myfunc()  # 이렇게 하면 자동으로 데코를 인식해서 함수를 전달받는다"
   ]
  },
  {
   "cell_type": "code",
   "execution_count": 30,
   "metadata": {},
   "outputs": [
    {
     "name": "stdout",
     "output_type": "stream",
     "text": [
      "'이제 에라가 없을것' 을 출력합니다.\n",
      "함수 수행시간: 0.000043 초\n"
     ]
    }
   ],
   "source": [
    "# **argue, kwrag는 무엇인가 알아보기\n",
    "\n",
    "@elapsed\n",
    "def myfunc(msg):\n",
    "    print(\"'%s' 을 출력합니다.\"%msg)\n",
    "    \n",
    "# myfunc('반갑다') # 데코레이터가 원치않는 입력을받아 에라가 났다\n",
    "# 따라서 클로를 이렇게 수정해본다\n",
    "\n",
    "def elapsed(ori_func):\n",
    "    def wrapper(*args, **kwargs):\n",
    "        start = time.time()\n",
    "        result = ori_func(*args,**kwargs) # 입력을 처리\n",
    "        end = time.time()\n",
    "        print(\"함수 수행시간: %f 초\" % (end-start))\n",
    "        return result\n",
    "    return wrapper\n",
    "\n",
    "@elapsed\n",
    "def myfunc(msg):\n",
    "    print(\"'%s' 을 출력합니다.\"%msg)\n",
    "\n",
    "myfunc('이제 에라가 없을것')\n",
    "\n",
    "\n",
    "# *args는 입력 인수를 튜플로 묶어서 변환한다.\n",
    "# **kwargs는 매개변수 key = value 형태를 묶어서 dict로 묶어 변환한다.\n",
    "    \n",
    "    "
   ]
  },
  {
   "cell_type": "code",
   "execution_count": 5,
   "metadata": {},
   "outputs": [
    {
     "name": "stdout",
     "output_type": "stream",
     "text": [
      "kim\n",
      "hi kim\n"
     ]
    }
   ],
   "source": [
    "# 클래스 상속: super('자식',self).__init() 을하면 \n",
    "# 부모 클래스의서 메서드를 임시로 가져와 사용할수있다.\n",
    "\n",
    "class A:\n",
    "    def __init__(self):\n",
    "        self.name = 'kim'\n",
    "        self.age = '28'\n",
    "    \n",
    "    def show_name(self):\n",
    "        return print(self.name)\n",
    "\n",
    "class B(A):\n",
    "    def __init__(self, gender):\n",
    "        super(B,self).__init__()\n",
    "        self.gender = gender\n",
    "        \n",
    "    def show_inform(self):\n",
    "        super(B,self).show_name()\n",
    "        print('hi '+ self.name)   \n",
    "\n",
    "me = B('male')\n",
    "me.show_inform()"
   ]
  },
  {
   "cell_type": "code",
   "execution_count": null,
   "metadata": {},
   "outputs": [],
   "source": []
  }
 ],
 "metadata": {
  "kernelspec": {
   "display_name": "Python 3",
   "language": "python",
   "name": "python3"
  },
  "language_info": {
   "codemirror_mode": {
    "name": "ipython",
    "version": 3
   },
   "file_extension": ".py",
   "mimetype": "text/x-python",
   "name": "python",
   "nbconvert_exporter": "python",
   "pygments_lexer": "ipython3",
   "version": "3.10.13"
  }
 },
 "nbformat": 4,
 "nbformat_minor": 2
}
